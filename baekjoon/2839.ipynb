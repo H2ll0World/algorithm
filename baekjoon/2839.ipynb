{
 "cells": [
  {
   "cell_type": "code",
   "execution_count": 2,
   "id": "371c61db",
   "metadata": {},
   "outputs": [],
   "source": [
    "# 백준 2839 설탕배달\n",
    "# 봉지는 3, 5kg\n",
    "# 최소한 봉지를 가져가는 것\n",
    "# 단, 무게에 맞게 갖고가야 함\n",
    "# 무게가 맞지 않는 경우 -1 출력"
   ]
  },
  {
   "cell_type": "code",
   "execution_count": 17,
   "id": "6dbd3bb7",
   "metadata": {},
   "outputs": [
    {
     "name": "stdout",
     "output_type": "stream",
     "text": [
      "11\n",
      "3\n"
     ]
    }
   ],
   "source": [
    "inum = int(input())\n",
    "\n",
    "#inum = 28\n",
    "num5 = inum // 5\n",
    "num3 = 1\n",
    "tnum = 0\n",
    "if inum % 5 == 0:\n",
    "    print(num5)\n",
    "else:\n",
    "    tnum = 3 * num3 + 5 * num5\n",
    "    while num5 >= 0:\n",
    "        if tnum == inum:\n",
    "            print(num5 + num3)\n",
    "            break\n",
    "        elif tnum < inum:\n",
    "            num3 = num3 + 1\n",
    "            tnum = tnum + 3\n",
    "        else: # tnum > inum\n",
    "            num5 = num5 - 1\n",
    "            tnum = tnum - 5\n",
    "    if num5 < 0:\n",
    "        print(\"-1\")\n",
    "            \n",
    "            \n",
    "        \n",
    "            "
   ]
  },
  {
   "cell_type": "code",
   "execution_count": null,
   "id": "3f5f874e",
   "metadata": {},
   "outputs": [],
   "source": []
  },
  {
   "cell_type": "code",
   "execution_count": null,
   "id": "f3fb518a",
   "metadata": {},
   "outputs": [],
   "source": []
  }
 ],
 "metadata": {
  "kernelspec": {
   "display_name": "Python 3 (ipykernel)",
   "language": "python",
   "name": "python3"
  },
  "language_info": {
   "codemirror_mode": {
    "name": "ipython",
    "version": 3
   },
   "file_extension": ".py",
   "mimetype": "text/x-python",
   "name": "python",
   "nbconvert_exporter": "python",
   "pygments_lexer": "ipython3",
   "version": "3.9.7"
  }
 },
 "nbformat": 4,
 "nbformat_minor": 5
}
