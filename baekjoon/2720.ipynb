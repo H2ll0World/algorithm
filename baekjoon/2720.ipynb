{
 "cells": [
  {
   "cell_type": "code",
   "execution_count": 1,
   "id": "9339e7c4",
   "metadata": {},
   "outputs": [
    {
     "name": "stdout",
     "output_type": "stream",
     "text": [
      "5\n"
     ]
    }
   ],
   "source": [
    "# 거슬름돈을 계산해 주는 문제\n",
    "# Quarter 0.25\n",
    "# Dime 0.10\n",
    "# Nickel 0.05\n",
    "# Penny 0.01\n",
    "# 거슬름돈은 항상 5달러 이하\n",
    "# 동전의 개수를 최소화 한다\n",
    "\n",
    "# 첫번째 줄에 testcase num\n",
    "# testcase의 단위는 센트\n",
    "# 1 <= C <= 500\n",
    "\n",
    "3\n",
    "124\n",
    "25\n",
    "194"
   ]
  },
  {
   "cell_type": "markdown",
   "id": "50a7735d",
   "metadata": {},
   "source": [
    "# 그리디 알고리즘 인듯...\n",
    "test_num = int(input())\n",
    "result = [0,0,0,0]\n",
    "\n",
    "if c >= 25:\n",
    "    result[0] = c // 25\n",
    "    c = c % 25\n",
    "\n",
    "if c >= 10:\n",
    "    result[1] = c // 10\n",
    "    c = c % 10\n",
    "\n",
    "if c >= 5:\n",
    "    result[2] = c // 5\n",
    "    c = c % 5\n",
    "    \n",
    "result[3] = c\n",
    "\n",
    "print(result)"
   ]
  },
  {
   "cell_type": "code",
   "execution_count": 39,
   "id": "82c10434",
   "metadata": {},
   "outputs": [
    {
     "name": "stdout",
     "output_type": "stream",
     "text": [
      "3\n",
      "124\n",
      "25\n",
      "194\n",
      "4 2 0 4\n",
      "1 0 0 0\n",
      "7 1 1 4\n"
     ]
    }
   ],
   "source": [
    "#그리디 알고리즘 인듯...\n",
    "test_num = int(input()) \n",
    "c_list = []\n",
    "for i in range(test_num):\n",
    "    c_list.append(int(input()))\n",
    "\n",
    "result = []\n",
    "for i in range(test_num):\n",
    "    result.append([])\n",
    "    if c_list[i] >= 25: \n",
    "        tem = int(c_list[i] // 25)\n",
    "        result[i].append(c_list[i] // 25)\n",
    "        c_list[i] = c_list[i] % 25\n",
    "    else:\n",
    "        result[i].append(0)\n",
    "        \n",
    "    if c_list[i] >= 10: \n",
    "        result[i].append(c_list[i] // 10)\n",
    "        c_list[i] = c_list[i] % 10\n",
    "    else:\n",
    "        result[i].append(0)\n",
    "        \n",
    "    if c_list[i] >= 5: \n",
    "        result[i].append(c_list[i] // 5)\n",
    "        c_list[i] = c_list[i] % 5\n",
    "    else:\n",
    "        result[i].append(0)\n",
    "        \n",
    "    result[i].append(c_list[i])\n",
    "\n",
    "for i in range (test_num):\n",
    "    print(f\"{result[i][0]} {result[i][1]} {result[i][2]} {result[i][3]}\")"
   ]
  },
  {
   "cell_type": "code",
   "execution_count": null,
   "id": "d23bff3e",
   "metadata": {},
   "outputs": [],
   "source": [
    "#정답\n",
    "import sys\n",
    "\n",
    "\n",
    "def main() -> None:\n",
    "    input = sys.stdin.readline\n",
    "\n",
    "    for _ in range(int(input())):\n",
    "        n = int(input())\n",
    "\n",
    "        quarter, n = divmod(n, 25)\n",
    "        dime, n = divmod(n, 10)\n",
    "        nickel, n = divmod(n, 5)\n",
    "        penny = n\n",
    "\n",
    "        print(quarter, dime, nickel, penny)\n",
    "\n",
    "\n",
    "if __name__ == \"__main__\":\n",
    "    sys.exit(main())  # type: ignore[func-returns-value]"
   ]
  },
  {
   "cell_type": "code",
   "execution_count": null,
   "id": "72f8217e",
   "metadata": {},
   "outputs": [],
   "source": []
  }
 ],
 "metadata": {
  "kernelspec": {
   "display_name": "Python 3 (ipykernel)",
   "language": "python",
   "name": "python3"
  },
  "language_info": {
   "codemirror_mode": {
    "name": "ipython",
    "version": 3
   },
   "file_extension": ".py",
   "mimetype": "text/x-python",
   "name": "python",
   "nbconvert_exporter": "python",
   "pygments_lexer": "ipython3",
   "version": "3.9.7"
  }
 },
 "nbformat": 4,
 "nbformat_minor": 5
}
