{
 "cells": [
  {
   "cell_type": "code",
   "execution_count": null,
   "id": "3c2d11a6",
   "metadata": {},
   "outputs": [],
   "source": [
    "# A: 10, B: 11, ..., F: 15, ..., Y: 34, Z: 35\n",
    "# 진법 변환"
   ]
  },
  {
   "cell_type": "code",
   "execution_count": null,
   "id": "22c0b1f9",
   "metadata": {},
   "outputs": [],
   "source": [
    "n, b = input().split()\n",
    "n_len = len(n)\n",
    "b = int(b)\n",
    "base = 1\n",
    "result = 0\n",
    "\n",
    "#문자열을 그에 대응하는 숫자로 바꿔주는 자료구조 없나? \n",
    "#사전 자료구조_ 함수정의하고 \n",
    "for i in range(n_len):\n",
    "    t = ord(n[n_len - 1 - i])\n",
    "    if t > 60:\n",
    "        t = t - 55\n",
    "    else:\n",
    "        t = t - 48\n",
    "    result = result + base * t\n",
    "    base = base * b\n",
    "\n",
    "print(result)"
   ]
  },
  {
   "cell_type": "code",
   "execution_count": 21,
   "id": "222131ec",
   "metadata": {},
   "outputs": [
    {
     "name": "stdout",
     "output_type": "stream",
     "text": [
      "57\n"
     ]
    }
   ],
   "source": [
    "#정답\n",
    "n,b=input().split()\n",
    "print(int(n,int(b)))"
   ]
  },
  {
   "cell_type": "code",
   "execution_count": null,
   "id": "f9011406",
   "metadata": {},
   "outputs": [],
   "source": []
  }
 ],
 "metadata": {
  "kernelspec": {
   "display_name": "Python 3 (ipykernel)",
   "language": "python",
   "name": "python3"
  },
  "language_info": {
   "codemirror_mode": {
    "name": "ipython",
    "version": 3
   },
   "file_extension": ".py",
   "mimetype": "text/x-python",
   "name": "python",
   "nbconvert_exporter": "python",
   "pygments_lexer": "ipython3",
   "version": "3.9.7"
  }
 },
 "nbformat": 4,
 "nbformat_minor": 5
}
