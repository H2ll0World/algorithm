{
 "cells": [
  {
   "cell_type": "code",
   "execution_count": null,
   "id": "3172b81a",
   "metadata": {},
   "outputs": [],
   "source": [
    "# n개의 카드중 3개의 카드를 골라 M을 넘지 않고 가장 가깝게 만드는 것\n",
    "# N(3 ≤ N ≤ 100)과 M(10 ≤ M ≤ 300,000)"
   ]
  },
  {
   "cell_type": "code",
   "execution_count": null,
   "id": "9b629e07",
   "metadata": {},
   "outputs": [
    {
     "name": "stdout",
     "output_type": "stream",
     "text": [
      "5 21\n"
     ]
    }
   ],
   "source": [
    "n , m = map(int, input().split())\n",
    "\n",
    "n = inm[0]\n",
    "m = inm[1]\n",
    "\n",
    "iarr = input().split()\n",
    "iarr = [int(num) for num in iarr]\n",
    "\n",
    "sum = 0\n",
    "t_sum = 0\n",
    "\n",
    "#3차원 배열로 해도 100까지만 있어서 될 것 같은데...\n",
    "for i in range(0, n - 2):\n",
    "    for j in range(i + 1, n - 1):\n",
    "        for k in range(j + 1, n):\n",
    "            t_sum = iarr[i] + iarr[j] + iarr[k]\n",
    "            if t_sum <= m and t_sum > sum:\n",
    "                sum = t_sum\n",
    "                \n",
    "print(sum)\n"
   ]
  },
  {
   "cell_type": "code",
   "execution_count": 15,
   "id": "16fba4c0",
   "metadata": {},
   "outputs": [
    {
     "name": "stdout",
     "output_type": "stream",
     "text": [
      "1 2\n",
      "<class 'str'>\n"
     ]
    }
   ],
   "source": [
    "#정답\n",
    "i = input().split()\n",
    "print(type(i[0]))"
   ]
  },
  {
   "cell_type": "code",
   "execution_count": null,
   "id": "b3459c88",
   "metadata": {},
   "outputs": [],
   "source": []
  }
 ],
 "metadata": {
  "kernelspec": {
   "display_name": "Python 3 (ipykernel)",
   "language": "python",
   "name": "python3"
  },
  "language_info": {
   "codemirror_mode": {
    "name": "ipython",
    "version": 3
   },
   "file_extension": ".py",
   "mimetype": "text/x-python",
   "name": "python",
   "nbconvert_exporter": "python",
   "pygments_lexer": "ipython3",
   "version": "3.9.7"
  }
 },
 "nbformat": 4,
 "nbformat_minor": 5
}
