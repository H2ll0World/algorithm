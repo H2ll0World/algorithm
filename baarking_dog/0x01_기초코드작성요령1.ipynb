{
 "cells": [
  {
   "cell_type": "code",
   "execution_count": null,
   "id": "f51595dc",
   "metadata": {},
   "outputs": [],
   "source": [
    "#문제1. 3의 배수, 5의 배수를 모두 합한 값을 반환하는 함수 func1을 작성하라, N은 5만 이하의 자연수"
   ]
  },
  {
   "cell_type": "code",
   "execution_count": 4,
   "id": "c6fc5059",
   "metadata": {},
   "outputs": [
    {
     "name": "stdout",
     "output_type": "stream",
     "text": [
      "60\n",
      "278812814\n",
      "178254968\n"
     ]
    }
   ],
   "source": [
    "def func1(int N): #이거 시그마공식사용해서 할 수도 있을 것 같은데\n",
    "    sum = 0\n",
    "    n3 = N // 3\n",
    "    n5 = N // 5\n",
    "    n15= N // 15\n",
    "    for i in range(n3):\n",
    "        sum = sum + ((i+1) * 3)\n",
    "    for i in range(n5):\n",
    "        sum = sum + ((i+1) * 5)\n",
    "    for i in range(n15):\n",
    "        sum = sum - ((i+1) * 15)\n",
    "    return sum\n",
    "\n",
    "print(func1(16))\n",
    "print(func1(34567))\n",
    "print(func1(27639))\n"
   ]
  },
  {
   "cell_type": "code",
   "execution_count": 5,
   "id": "5679b27d",
   "metadata": {},
   "outputs": [],
   "source": [
    "#문제2. 주어진 N의 int배열에서 합이 100인 서로 다른 위치의 두 원소가 존재하면 1, 존재x : 0\n",
    "#      을 반환하는 함수 func2(int arr[], int N)을 작성하라\n",
    "#제한, arr의 각 수는 0이상 100이하, N은 1000이하\n",
    "\n",
    "\n",
    "#testcase\n",
    "#func2([1,52,48],3)\n",
    "#func2([50,42],2)\n",
    "#func2([4,13,63,87],4) = 1"
   ]
  },
  {
   "cell_type": "code",
   "execution_count": 15,
   "id": "539167a2",
   "metadata": {},
   "outputs": [
    {
     "name": "stdout",
     "output_type": "stream",
     "text": [
      "1\n",
      "0\n",
      "1\n",
      "1\n",
      "0\n",
      "1\n"
     ]
    }
   ],
   "source": [
    "#N은 5000이하이면 O(N^2)도 가능\n",
    "\n",
    "#O(N^2) 복잡도\n",
    "def func2(arrList, N):\n",
    "    for i in range(N):\n",
    "        tem = arrList[i]\n",
    "        for j in range(i+1, N):\n",
    "            if tem+arrList[j] == 100:\n",
    "                return 1\n",
    "    return 0\n",
    "\n",
    "print(func2([1,52,48],3))\n",
    "print(func2([50,42],2))\n",
    "print(func2([4,13,63,87],4))\n",
    "\n",
    "#O(N) 풀이\n",
    "#N길이의 0이르된 배열 선언\n",
    "def func2_1(arrList, N):\n",
    "    arr = [0] * 101\n",
    "    for i in range(N):\n",
    "        tem = arrList[i]\n",
    "        if tem == 50:\n",
    "            if arr[50] == 1:\n",
    "                return 1\n",
    "        arr[tem] = 1\n",
    "    for i in range(50):\n",
    "        if arr[i] + arr[100-i] == 2:\n",
    "            return 1\n",
    "    return 0\n",
    "\n",
    "print(func2_1([1,52,48],3))\n",
    "print(func2_1([50,42],2))\n",
    "print(func2_1([4,13,63,87],4))"
   ]
  },
  {
   "cell_type": "code",
   "execution_count": null,
   "id": "0cf0cdfe",
   "metadata": {},
   "outputs": [],
   "source": [
    "#문제3. N이 제곱수이면 1을 반환하고, 제곱수가 아니면 0을 반환하는 함수 func3(int N)을 작성해라.\n",
    "#   제한, N은 10억 이하의 자연수\n",
    "\n",
    "#testcase\n",
    "#func3(9) = 1\n",
    "#func3(693953651) = 0\n",
    "#func3(756580036) = 1"
   ]
  },
  {
   "cell_type": "code",
   "execution_count": 16,
   "id": "21d128e4",
   "metadata": {},
   "outputs": [
    {
     "name": "stdout",
     "output_type": "stream",
     "text": [
      "1\n",
      "0\n",
      "1\n"
     ]
    }
   ],
   "source": [
    "#O(루트N), + O(logN)의 방법도 존재, 완강한 후에 시도해 보기\n",
    "def func3(N):\n",
    "    for i in range (N):\n",
    "        square = i * i\n",
    "        if square == N:\n",
    "            return 1\n",
    "        elif square > N:\n",
    "            return 0\n",
    "\n",
    "print(func3(9))\n",
    "print(func3(693953651))\n",
    "print(func3(756580036))"
   ]
  },
  {
   "cell_type": "code",
   "execution_count": null,
   "id": "099d6659",
   "metadata": {},
   "outputs": [],
   "source": [
    "#문제4. N이하의 수 중에서 가장 큰 2의 거듭제곱수를 반환하는 함수 func4(int N)을 작성하시오\n",
    "# 제한, N은 10억 이하 자연수\n",
    "\n",
    "#func4(5) = 4\n",
    "#func4(97615282) = 67108864\n",
    "#func4(1024) = 1024"
   ]
  },
  {
   "cell_type": "code",
   "execution_count": 25,
   "id": "4fdfa00e",
   "metadata": {},
   "outputs": [
    {
     "name": "stdout",
     "output_type": "stream",
     "text": [
      "4\n",
      "67108864\n",
      "1024\n"
     ]
    }
   ],
   "source": [
    "#O(logN)풀이\n",
    "def func4(N):\n",
    "    num2 = 1\n",
    "    for i in range(N):\n",
    "        tem = num2 * 2\n",
    "        if tem > N:\n",
    "            return num2\n",
    "        num2 = tem\n",
    "\n",
    "        \n",
    "print(func4(5))\n",
    "print(func4(97615282))\n",
    "print(func4(1024))"
   ]
  }
 ],
 "metadata": {
  "kernelspec": {
   "display_name": "Python 3 (ipykernel)",
   "language": "python",
   "name": "python3"
  },
  "language_info": {
   "codemirror_mode": {
    "name": "ipython",
    "version": 3
   },
   "file_extension": ".py",
   "mimetype": "text/x-python",
   "name": "python",
   "nbconvert_exporter": "python",
   "pygments_lexer": "ipython3",
   "version": "3.9.7"
  }
 },
 "nbformat": 4,
 "nbformat_minor": 5
}
