{
 "cells": [
  {
   "cell_type": "code",
   "execution_count": null,
   "id": "4f6f50c5",
   "metadata": {},
   "outputs": [],
   "source": [
    "#백준 10808\n",
    "#알파벳 소문자로만 이루어진 단어가 주어진다. 단어에 각 알파벳이 몇개 포함되는지 구하는 프로그램을 작성\n",
    "\n",
    "#단어의 길이는 100을 넘지 않으며, 알파벳 소문자로만 이루어져 있다.\n",
    "#단어에 포함되어 있는 a의 개수, b의 개수, …, z의 개수를 공백으로 구분해서 출력한다.\n",
    "\n",
    "#baekjoon\n",
    "#1 1 0 0 1 0 0 0 0 1 1 0 0 1 2 0 0 0 0 0 0 0 0 0 0 0"
   ]
  },
  {
   "cell_type": "code",
   "execution_count": null,
   "id": "aafdfc46",
   "metadata": {},
   "outputs": [],
   "source": [
    "#단어의 처음부터 끝까지 어떻게 스캔???\n",
    "alpha_list = [0] * 26\n",
    "#print(alpha_list)\n",
    "\n",
    "# print(ord('a')) == 97\n",
    "\n",
    "x = input()\n",
    "for i in range (len(x)):\n",
    "    tem = ord(x[i])-97\n",
    "    alpha_list[tem] = alpha_list[tem] + 1\n",
    "    \n",
    "print(*alpha_list)\n",
    "    \n",
    "#for i in range(len(alpha_list)):\n",
    "#    print(alpha_list[i], end=\" \")\n"
   ]
  }
 ],
 "metadata": {
  "kernelspec": {
   "display_name": "Python 3 (ipykernel)",
   "language": "python",
   "name": "python3"
  },
  "language_info": {
   "codemirror_mode": {
    "name": "ipython",
    "version": 3
   },
   "file_extension": ".py",
   "mimetype": "text/x-python",
   "name": "python",
   "nbconvert_exporter": "python",
   "pygments_lexer": "ipython3",
   "version": "3.9.7"
  }
 },
 "nbformat": 4,
 "nbformat_minor": 5
}
